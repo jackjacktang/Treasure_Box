{
 "cells": [
  {
   "cell_type": "code",
   "execution_count": null,
   "metadata": {},
   "outputs": [],
   "source": [
    "# 1. create_gif"
   ]
  },
  {
   "cell_type": "code",
   "execution_count": 25,
   "metadata": {},
   "outputs": [],
   "source": [
    "# 1. create_gif\n",
    "\n",
    "import imageio\n",
    "from matplotlib import pyplot as plt\n",
    "import os\n",
    "\n",
    "# the images to be converted to gif are better sorted in some manner\n",
    "# default is from 0.ext ... frames.ext\n",
    "frames = 30\n",
    "root = './poster/'\n",
    "sub_list = os.listdir(root)\n",
    "extenstion = '.png'\n",
    "\n",
    "for s in sub_list:\n",
    "    if not s.startswith('.'):\n",
    "        s_root = os.path.join(root, s)\n",
    "        f_list = os.listdir(s_root)\n",
    "        images = []\n",
    "        for f in range(frames):\n",
    "            f_name = str(f) + extenstion\n",
    "            a = imageio.imread(os.path.join(s_root, f_name))\n",
    "            a = a[:-75, :]\n",
    "            images.append(a)\n",
    "    imageio.mimsave(root+s+'.gif', images)\n",
    "    "
   ]
  },
  {
   "cell_type": "code",
   "execution_count": null,
   "metadata": {},
   "outputs": [],
   "source": []
  }
 ],
 "metadata": {
  "kernelspec": {
   "display_name": "Python 3",
   "language": "python",
   "name": "python3"
  },
  "language_info": {
   "codemirror_mode": {
    "name": "ipython",
    "version": 3
   },
   "file_extension": ".py",
   "mimetype": "text/x-python",
   "name": "python",
   "nbconvert_exporter": "python",
   "pygments_lexer": "ipython3",
   "version": "3.6.4"
  }
 },
 "nbformat": 4,
 "nbformat_minor": 2
}
